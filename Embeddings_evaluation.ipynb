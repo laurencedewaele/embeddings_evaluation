{
  "nbformat": 4,
  "nbformat_minor": 0,
  "metadata": {
    "colab": {
      "provenance": []
    },
    "kernelspec": {
      "name": "python3",
      "display_name": "Python 3"
    },
    "language_info": {
      "name": "python"
    }
  },
  "cells": [
    {
      "cell_type": "markdown",
      "source": [
        "# Evaluation of the cosine similarities computed by  different types of models"
      ],
      "metadata": {
        "id": "JRJuDZcBvN4l"
      }
    },
    {
      "cell_type": "code",
      "execution_count": null,
      "metadata": {
        "id": "5DDHorsKrFvZ"
      },
      "outputs": [],
      "source": [
        "from sentence_transformers import SentenceTransformer, util"
      ]
    },
    {
      "cell_type": "markdown",
      "source": [
        "## Loading models\n",
        "*requires setting the HF_TOKEN secret*"
      ],
      "metadata": {
        "id": "0_gBex7KrkxR"
      }
    },
    {
      "cell_type": "code",
      "source": [
        "# Sentence Transformer\n",
        "sent_model = SentenceTransformer(\"all-MiniLM-L6-v2\")\n",
        "# SimCSE unsupervised\n",
        "unsup_simcse = SentenceTransformer(\"princeton-nlp/unsup-simcse-roberta-base\")\n",
        "# SimCSE supervised\n",
        "sup_simcse = SentenceTransformer(\"princeton-nlp/sup-simcse-roberta-base\")\n",
        "# E5\n",
        "e5_model = SentenceTransformer('intfloat/multilingual-e5-base')"
      ],
      "metadata": {
        "id": "ZabYAHN_rqJS"
      },
      "execution_count": null,
      "outputs": []
    },
    {
      "cell_type": "markdown",
      "source": [
        "## Initializations"
      ],
      "metadata": {
        "id": "G-8sQdWltDeC"
      }
    },
    {
      "cell_type": "code",
      "source": [
        "dict_models = {\n",
        "    \"sent_model\": sent_model,\n",
        "    \"unsup_simcse\": unsup_simcse,\n",
        "    \"sup_simcse\": sup_simcse,\n",
        "    \"e5_model\": e5_model\n",
        "}\n",
        "\n",
        "dict_model_labels = {\n",
        "    \"sent_model\": \"Classical SentenceTransformer\",\n",
        "    \"unsup_simcse\": \"SimCSE - unsupervised\",\n",
        "    \"sup_simcse\": \"SimCSE - supervised\",\n",
        "    \"e5_model\": \"E5\"\n",
        "}\n",
        "\n",
        "list_corpus = [\n",
        "    \"A man is slicing a cake carefully with a knife.\",\n",
        "    \"Someone cuts a dessert with precision.\",\n",
        "    \"A woman is slicing a cake.\",\n",
        "    \"Elle découpe soigneusement la tarte en parts égales.\"\n",
        "]"
      ],
      "metadata": {
        "id": "-dINmwNMrR6a"
      },
      "execution_count": null,
      "outputs": []
    },
    {
      "cell_type": "markdown",
      "source": [
        "## Embedding corpus"
      ],
      "metadata": {
        "id": "e9H624nytUKd"
      }
    },
    {
      "cell_type": "code",
      "source": [
        "# Corpus encoding for all models\n",
        "dict_corpus_embeddings = {\n",
        "    name: model.encode(list_corpus, convert_to_tensor=True)\n",
        "    for name, model in dict_models.items()\n",
        "}"
      ],
      "metadata": {
        "id": "07QKkF58tTQg"
      },
      "execution_count": null,
      "outputs": []
    },
    {
      "cell_type": "markdown",
      "source": [
        "## Embedding query"
      ],
      "metadata": {
        "id": "EP8ukSITtecB"
      }
    },
    {
      "cell_type": "code",
      "source": [
        "query = \"Someone cuts a dessert with a knife.\"\n",
        "\n",
        "# Query encoding for all models\n",
        "dict_query_embeddings = {\n",
        "    name: model.encode(query, convert_to_tensor=True)\n",
        "    for name, model in dict_models.items()\n",
        "}"
      ],
      "metadata": {
        "id": "Xnk4tqmRtX7W"
      },
      "execution_count": null,
      "outputs": []
    },
    {
      "cell_type": "markdown",
      "source": [
        "## Processing"
      ],
      "metadata": {
        "id": "U3UIl9DttsaO"
      }
    },
    {
      "cell_type": "code",
      "source": [
        "# Semantic search for all models\n",
        "dict_hits = {\n",
        "    name: util.semantic_search(emb, dict_corpus_embeddings[name])[0]\n",
        "    for name, emb in dict_query_embeddings.items()\n",
        "}"
      ],
      "metadata": {
        "id": "sU-QcIn9toe7"
      },
      "execution_count": null,
      "outputs": []
    },
    {
      "cell_type": "markdown",
      "source": [
        "## Displaying results"
      ],
      "metadata": {
        "id": "5e3KfE1stzUL"
      }
    },
    {
      "cell_type": "code",
      "source": [
        "print(f\"\\nQuery: {query}\\n\\nCosine similarity for each model:\")\n",
        "\n",
        "for name, hit_list in dict_hits.items():\n",
        "    print(f\"\\n{dict_model_labels.get(name, name)}:\")\n",
        "    for hit in hit_list:\n",
        "        print(f\"  {hit['score']:.3f} - {list_corpus[hit['corpus_id']]}\")"
      ],
      "metadata": {
        "id": "bxrDoF-ztuu-"
      },
      "execution_count": null,
      "outputs": []
    },
    {
      "cell_type": "code",
      "source": [],
      "metadata": {
        "id": "XVAs5CvluHR5"
      },
      "execution_count": null,
      "outputs": []
    }
  ]
}